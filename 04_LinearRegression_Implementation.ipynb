{
 "cells": [
  {
   "cell_type": "code",
   "execution_count": 1,
   "id": "alike-hardwood",
   "metadata": {},
   "outputs": [],
   "source": [
    "import numpy as np\n",
    "import pandas as pd\n",
    "from sklearn.datasets import load_boston\n",
    "from sklearn.model_selection import train_test_split\n",
    "import matplotlib.pyplot as plt"
   ]
  },
  {
   "cell_type": "code",
   "execution_count": 2,
   "id": "egyptian-baker",
   "metadata": {},
   "outputs": [],
   "source": [
    "dataset = load_boston()"
   ]
  },
  {
   "cell_type": "code",
   "execution_count": 3,
   "id": "hairy-thesis",
   "metadata": {},
   "outputs": [],
   "source": [
    "x = dataset.data\n",
    "y = dataset.target"
   ]
  },
  {
   "cell_type": "code",
   "execution_count": 4,
   "id": "approximate-standing",
   "metadata": {},
   "outputs": [],
   "source": [
    "feature_names = dataset.feature_names\n",
    "DESCR = dataset.DESCR"
   ]
  },
  {
   "cell_type": "code",
   "execution_count": 5,
   "id": "short-austin",
   "metadata": {},
   "outputs": [
    {
     "data": {
      "text/html": [
       "<div>\n",
       "<style scoped>\n",
       "    .dataframe tbody tr th:only-of-type {\n",
       "        vertical-align: middle;\n",
       "    }\n",
       "\n",
       "    .dataframe tbody tr th {\n",
       "        vertical-align: top;\n",
       "    }\n",
       "\n",
       "    .dataframe thead th {\n",
       "        text-align: right;\n",
       "    }\n",
       "</style>\n",
       "<table border=\"1\" class=\"dataframe\">\n",
       "  <thead>\n",
       "    <tr style=\"text-align: right;\">\n",
       "      <th></th>\n",
       "      <th>CRIM</th>\n",
       "      <th>ZN</th>\n",
       "      <th>INDUS</th>\n",
       "      <th>CHAS</th>\n",
       "      <th>NOX</th>\n",
       "      <th>RM</th>\n",
       "      <th>AGE</th>\n",
       "      <th>DIS</th>\n",
       "      <th>RAD</th>\n",
       "      <th>TAX</th>\n",
       "      <th>PTRATIO</th>\n",
       "      <th>B</th>\n",
       "      <th>LSTAT</th>\n",
       "    </tr>\n",
       "  </thead>\n",
       "  <tbody>\n",
       "    <tr>\n",
       "      <th>0</th>\n",
       "      <td>0.00632</td>\n",
       "      <td>18.0</td>\n",
       "      <td>2.31</td>\n",
       "      <td>0.0</td>\n",
       "      <td>0.538</td>\n",
       "      <td>6.575</td>\n",
       "      <td>65.2</td>\n",
       "      <td>4.0900</td>\n",
       "      <td>1.0</td>\n",
       "      <td>296.0</td>\n",
       "      <td>15.3</td>\n",
       "      <td>396.90</td>\n",
       "      <td>4.98</td>\n",
       "    </tr>\n",
       "    <tr>\n",
       "      <th>1</th>\n",
       "      <td>0.02731</td>\n",
       "      <td>0.0</td>\n",
       "      <td>7.07</td>\n",
       "      <td>0.0</td>\n",
       "      <td>0.469</td>\n",
       "      <td>6.421</td>\n",
       "      <td>78.9</td>\n",
       "      <td>4.9671</td>\n",
       "      <td>2.0</td>\n",
       "      <td>242.0</td>\n",
       "      <td>17.8</td>\n",
       "      <td>396.90</td>\n",
       "      <td>9.14</td>\n",
       "    </tr>\n",
       "    <tr>\n",
       "      <th>2</th>\n",
       "      <td>0.02729</td>\n",
       "      <td>0.0</td>\n",
       "      <td>7.07</td>\n",
       "      <td>0.0</td>\n",
       "      <td>0.469</td>\n",
       "      <td>7.185</td>\n",
       "      <td>61.1</td>\n",
       "      <td>4.9671</td>\n",
       "      <td>2.0</td>\n",
       "      <td>242.0</td>\n",
       "      <td>17.8</td>\n",
       "      <td>392.83</td>\n",
       "      <td>4.03</td>\n",
       "    </tr>\n",
       "    <tr>\n",
       "      <th>3</th>\n",
       "      <td>0.03237</td>\n",
       "      <td>0.0</td>\n",
       "      <td>2.18</td>\n",
       "      <td>0.0</td>\n",
       "      <td>0.458</td>\n",
       "      <td>6.998</td>\n",
       "      <td>45.8</td>\n",
       "      <td>6.0622</td>\n",
       "      <td>3.0</td>\n",
       "      <td>222.0</td>\n",
       "      <td>18.7</td>\n",
       "      <td>394.63</td>\n",
       "      <td>2.94</td>\n",
       "    </tr>\n",
       "    <tr>\n",
       "      <th>4</th>\n",
       "      <td>0.06905</td>\n",
       "      <td>0.0</td>\n",
       "      <td>2.18</td>\n",
       "      <td>0.0</td>\n",
       "      <td>0.458</td>\n",
       "      <td>7.147</td>\n",
       "      <td>54.2</td>\n",
       "      <td>6.0622</td>\n",
       "      <td>3.0</td>\n",
       "      <td>222.0</td>\n",
       "      <td>18.7</td>\n",
       "      <td>396.90</td>\n",
       "      <td>5.33</td>\n",
       "    </tr>\n",
       "  </tbody>\n",
       "</table>\n",
       "</div>"
      ],
      "text/plain": [
       "      CRIM    ZN  INDUS  CHAS    NOX     RM   AGE     DIS  RAD    TAX  \\\n",
       "0  0.00632  18.0   2.31   0.0  0.538  6.575  65.2  4.0900  1.0  296.0   \n",
       "1  0.02731   0.0   7.07   0.0  0.469  6.421  78.9  4.9671  2.0  242.0   \n",
       "2  0.02729   0.0   7.07   0.0  0.469  7.185  61.1  4.9671  2.0  242.0   \n",
       "3  0.03237   0.0   2.18   0.0  0.458  6.998  45.8  6.0622  3.0  222.0   \n",
       "4  0.06905   0.0   2.18   0.0  0.458  7.147  54.2  6.0622  3.0  222.0   \n",
       "\n",
       "   PTRATIO       B  LSTAT  \n",
       "0     15.3  396.90   4.98  \n",
       "1     17.8  396.90   9.14  \n",
       "2     17.8  392.83   4.03  \n",
       "3     18.7  394.63   2.94  \n",
       "4     18.7  396.90   5.33  "
      ]
     },
     "execution_count": 5,
     "metadata": {},
     "output_type": "execute_result"
    }
   ],
   "source": [
    "df = pd.DataFrame(x, columns=feature_names)\n",
    "df.head()"
   ]
  },
  {
   "cell_type": "markdown",
   "id": "attended-eleven",
   "metadata": {},
   "source": [
    "#### Einfache Lineare Regression\n",
    "\n",
    "#### Bedeutung\n",
    "  \n",
    "- $R^2$: Wie viel Streuung kann von dem Regressionsmodell erklärt werden\n",
    "- coef: Steigung der Geraden\n",
    "- intercept: y-Achsenabschnitt\n",
    "  \n",
    "#### Symbole\n",
    "\n",
    "- $\\bar{x}$: Mittelwert von $x$\n",
    "- $\\bar{y}$: Mittelwert von $y$\n",
    "- $\\hat{y}$: Prediktion vom Modell\n",
    "\n",
    "#### Datensatz\n",
    "\n",
    "- $m$: Anzahl an Samples\n",
    "- $n$: Anzahl an Features\n",
    "- $x$: Input-Daten (Features)\n",
    "- $y$: Output Daten (Targets)\n",
    "\n",
    "#### Variablen\n",
    "\n",
    "- $x \\in \\mathbb{R}^{m,n}$\n",
    "- $y \\in \\mathbb{R}^{m,}$\n",
    "- coef, $\\bar{x} \\in \\mathbb{R}^{n}$\n",
    "- intercept, $\\bar{y} \\in \\mathbb{R}$\n",
    "\n",
    "#### Formeln\n",
    "\n",
    "- $\\beta = (X^TX)^{-1}X^Ty$\n",
    "- coef = $\\beta$\\[1:\\]\n",
    "- intercept = $\\beta$\\[0\\]\n",
    "- $\\hat{y} = X\\beta$\n",
    "- $R^2 = 1 - \\frac{\\sum_{i=1}^n(y_i-\\hat{y})^2}{\\sum_{i=1}^n(y_i-\\bar{y})^2}$"
   ]
  },
  {
   "cell_type": "code",
   "execution_count": 9,
   "id": "saving-magnet",
   "metadata": {},
   "outputs": [],
   "source": [
    "class LinearRegression:\n",
    "    def __init__(self):\n",
    "        self.coef_ = None # Steigung\n",
    "        self.intercept_ = None # Y-Achsenabschnitt\n",
    "    \n",
    "    def _add_intercept(self, x):\n",
    "        intercepts = np.ones(shape=(x.shape[0]))\n",
    "        x = np.column_stack((intercepts, x)) # 1-D array in 2-D Array stacken\n",
    "        return x\n",
    "    \n",
    "    def fit(self, x: np.ndarray, y: np.ndarray):\n",
    "        x = self._add_intercept(x)\n",
    "        inner = np.dot(x.T, x)\n",
    "        inv = np.linalg.inv(inner)\n",
    "        beta = np.dot(np.dot(inv, x.T), y)\n",
    "        print(f\"Beta: {beta}\")\n",
    "        self.intercept_ = beta[0]\n",
    "        self.coef_ = beta[1:]\n",
    "    \n",
    "    def predict(self, x: np.ndarray):\n",
    "        y_pred = np.array(\n",
    "            [np.dot(self.coef_.T, xi) + self.intercept_ for xi in x] # y = mx + b\n",
    "        )\n",
    "        return y_pred\n",
    "    \n",
    "    def score(self, x: np.ndarray, y: np.ndarray):\n",
    "        y_pred = self.predict(x)\n",
    "        y_mean = np.mean(y, axis=0)\n",
    "        frac1 = np.sum(\n",
    "            [(y[i] - y_pred[i])**2 for i in range(len(y))]\n",
    "        )\n",
    "        frac2 = np.sum(\n",
    "            [(y[i] - y_mean)**2 for i in range(len(y))]\n",
    "        )\n",
    "        r2_score = 1.0 - frac1 / frac2\n",
    "        return r2_score"
   ]
  },
  {
   "cell_type": "markdown",
   "id": "described-beauty",
   "metadata": {},
   "source": [
    "### Data split"
   ]
  },
  {
   "cell_type": "code",
   "execution_count": 10,
   "id": "cloudy-phoenix",
   "metadata": {},
   "outputs": [
    {
     "name": "stdout",
     "output_type": "stream",
     "text": [
      "(506, 13)\n",
      "(506, 1)\n",
      "(354, 1)\n",
      "(152, 1)\n"
     ]
    }
   ],
   "source": [
    "np.random.seed(42)\n",
    "\n",
    "print(dataset.data.shape) # 506 Zeilen mit 13 Spalten (Features)\n",
    "x = dataset.data[:, 5:6] # 5. Spalte (Feature)\n",
    "print(x.shape)\n",
    "y = dataset.target\n",
    "\n",
    "# Split:\n",
    "x_train, x_test, y_train, y_test = train_test_split(x, y, test_size=0.3) # Test 30%; Train 70%\n",
    "print(x_train.shape)\n",
    "print(x_test.shape)"
   ]
  },
  {
   "cell_type": "code",
   "execution_count": 11,
   "id": "threatened-missouri",
   "metadata": {},
   "outputs": [
    {
     "name": "stdout",
     "output_type": "stream",
     "text": [
      "Beta: [-34.66230744   9.1181022 ]\n",
      "Coef: [9.1181022]\n",
      "Intercept: -34.66230743840655\n",
      "R2-Score: 0.45846499343030656\n"
     ]
    }
   ],
   "source": [
    "regr = LinearRegression()\n",
    "regr.fit(x_train, y_train)\n",
    "r2_score = regr.score(x_test, y_test)\n",
    "\n",
    "print(f\"Coef: {regr.coef_}\")\n",
    "print(f\"Intercept: {regr.intercept_}\")\n",
    "print(f\"R2-Score: {r2_score}\")"
   ]
  },
  {
   "cell_type": "markdown",
   "id": "reduced-romania",
   "metadata": {},
   "source": [
    "### Visualization"
   ]
  },
  {
   "cell_type": "code",
   "execution_count": null,
   "id": "addressed-success",
   "metadata": {},
   "outputs": [],
   "source": [
    "def plot_regressor(regr, x_test, y_test):\n",
    "    x1 = np.min(x) - 1\n",
    "    x2 = np.max(x) + 1    \n",
    "    y_pred = regr.predict([x1, x2])\n",
    "    y1, y2 = y_pred\n",
    "    plt.plot((x1, x2), (y1, y2), color=\"black\")\n",
    "    # print(np.column_stack((x_test, y_test)))\n",
    "    plt.scatter(x_test, y_test, color=\"red\")\n",
    "    plt.show()"
   ]
  },
  {
   "cell_type": "markdown",
   "id": "rocky-marine",
   "metadata": {},
   "source": [
    "### Test data"
   ]
  },
  {
   "cell_type": "code",
   "execution_count": null,
   "id": "acceptable-consent",
   "metadata": {
    "scrolled": true
   },
   "outputs": [],
   "source": [
    "plot_regressor(regr, x_test, y_test)"
   ]
  },
  {
   "cell_type": "code",
   "execution_count": null,
   "id": "hybrid-andrew",
   "metadata": {},
   "outputs": [],
   "source": [
    "def plot_residuals(regr, x_train, y_train, x_test, y_test):\n",
    "    y_pred_train = regr.predict(x_train)\n",
    "    y_pred_test = regr.predict(x_test)\n",
    "    \n",
    "    min_val = min(np.min(y_pred_train), np.min(y_pred_test)) # Was ist der minimale Wert von train und test\n",
    "    max_val = max(np.max(y_pred_train), np.max(y_pred_test))\n",
    "    \n",
    "    print(np.min(y_pred_train))\n",
    "    print(np.min(y_pred_test))\n",
    "    print(min_val)\n",
    "    \n",
    "    plt.scatter(y_pred_train, y_pred_train - y_train, color=\"blue\")\n",
    "    plt.scatter(y_pred_test, y_pred_test - y_test, color=\"red\")\n",
    "    plt.hlines(y=0, xmin=min_val, xmax=max_val)\n",
    "    plt.legend([\"Train\", \"Test\"])\n",
    "    plt.show()"
   ]
  },
  {
   "cell_type": "code",
   "execution_count": null,
   "id": "professional-investigator",
   "metadata": {},
   "outputs": [],
   "source": [
    "plot_residuals(regr, x_train, y_train, x_test, y_test)"
   ]
  },
  {
   "cell_type": "code",
   "execution_count": null,
   "id": "developmental-inflation",
   "metadata": {},
   "outputs": [],
   "source": []
  }
 ],
 "metadata": {
  "kernelspec": {
   "display_name": "Python 3",
   "language": "python",
   "name": "python3"
  },
  "language_info": {
   "codemirror_mode": {
    "name": "ipython",
    "version": 3
   },
   "file_extension": ".py",
   "mimetype": "text/x-python",
   "name": "python",
   "nbconvert_exporter": "python",
   "pygments_lexer": "ipython3",
   "version": "3.8.5"
  }
 },
 "nbformat": 4,
 "nbformat_minor": 5
}
