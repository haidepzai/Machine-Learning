{
 "cells": [
  {
   "cell_type": "markdown",
   "id": "recorded-marker",
   "metadata": {},
   "source": [
    "### Dataset"
   ]
  },
  {
   "cell_type": "code",
   "execution_count": 1,
   "id": "defined-bundle",
   "metadata": {},
   "outputs": [],
   "source": [
    "import numpy as np\n",
    "np.random.seed(42)\n",
    "import matplotlib.pyplot as plt\n",
    "from sklearn import datasets\n",
    "from sklearn.model_selection import train_test_split"
   ]
  },
  {
   "cell_type": "code",
   "execution_count": 2,
   "id": "considerable-canyon",
   "metadata": {},
   "outputs": [],
   "source": [
    "boston = datasets.load_boston()\n",
    "x, y = boston.data[:, 1:3], boston.target # Spalten 1, 2\n",
    "\n",
    "x_train, x_test, y_train, y_test = train_test_split(x, y, test_size=0.3)"
   ]
  },
  {
   "cell_type": "code",
   "execution_count": 5,
   "id": "lovely-germany",
   "metadata": {},
   "outputs": [
    {
     "data": {
      "image/png": "[encoded data removed]",
      "text/plain": [
       "<Figure size 432x288 with 1 Axes>"
      ]
     },
     "metadata": {
      "needs_background": "light"
     },
     "output_type": "display_data"
    },
    {
     "name": "stdout",
     "output_type": "stream",
     "text": [
      "Min: [0.   0.46]\n",
      "Max: [100.    27.74]\n",
      "Mean: [11.26973684 11.14546053]\n",
      "Std: [24.90150872  6.67496628]\n"
     ]
    }
   ],
   "source": [
    "plt.scatter(x_test[:, 0], x_test[:, 1])\n",
    "plt.show()\n",
    "\n",
    "print(f\"Min: {np.min(x_test, axis=0)}\")\n",
    "print(f\"Max: {np.max(x_test, axis=0)}\")\n",
    "print(f\"Mean: {np.mean(x_test, axis=0)}\")\n",
    "print(f\"Std: {np.std(x_test, axis=0)}\")"
   ]
  },
  {
   "cell_type": "markdown",
   "id": "former-summer",
   "metadata": {},
   "source": [
    "### MinMax Scaler\n",
    "\n",
    "$x' = \\frac{x - min}{max-min}$"
   ]
  },
  {
   "cell_type": "code",
   "execution_count": 10,
   "id": "bright-mortgage",
   "metadata": {},
   "outputs": [],
   "source": [
    "class MinMaxScaler:\n",
    "    def __init__(self):\n",
    "        self.data_min: np.ndarray = None\n",
    "        self.data_max: np.ndarray = None\n",
    "        \n",
    "    def fit(self, x: np.ndarray):\n",
    "        self.data_min = np.min(x, axis=0)\n",
    "        self.data_max = np.max(x, axis=0)\n",
    "        \n",
    "    def transform(self, x: np.ndarray):\n",
    "        x_transformed = (x - self.data_min) / (self.data_max - self.data_min)\n",
    "        return x_transformed"
   ]
  },
  {
   "cell_type": "code",
   "execution_count": 11,
   "id": "revolutionary-mobile",
   "metadata": {},
   "outputs": [],
   "source": [
    "scaler = MinMaxScaler()\n",
    "scaler.fit(x_train) # Nur auf Trainingsdaten\n",
    "x_train_transformed = scaler.transform(x_train)\n",
    "x_test_transformed = scaler.transform(x_test)"
   ]
  },
  {
   "cell_type": "code",
   "execution_count": 12,
   "id": "invalid-colombia",
   "metadata": {},
   "outputs": [
    {
     "data": {
      "image/png": "[encoded data removed]",
      "text/plain": [
       "<Figure size 432x288 with 1 Axes>"
      ]
     },
     "metadata": {
      "needs_background": "light"
     },
     "output_type": "display_data"
    },
    {
     "name": "stdout",
     "output_type": "stream",
     "text": [
      "Min: [ 0.         -0.02826988]\n",
      "Max: [1.05263158 1.        ]\n",
      "Mean: [0.11862881 0.37449908]\n",
      "Std: [0.26212114 0.25160069]\n"
     ]
    }
   ],
   "source": [
    "plt.scatter(x_test_transformed[:, 0], x_test_transformed[:, 1])\n",
    "plt.show()\n",
    "\n",
    "print(f\"Min: {np.min(x_test_transformed, axis=0)}\")\n",
    "print(f\"Max: {np.max(x_test_transformed, axis=0)}\")\n",
    "print(f\"Mean: {np.mean(x_test_transformed, axis=0)}\")\n",
    "print(f\"Std: {np.std(x_test_transformed, axis=0)}\")"
   ]
  },
  {
   "cell_type": "code",
   "execution_count": null,
   "id": "exceptional-authentication",
   "metadata": {},
   "outputs": [],
   "source": []
  }
 ],
 "metadata": {
  "kernelspec": {
   "display_name": "Python 3",
   "language": "python",
   "name": "python3"
  },
  "language_info": {
   "codemirror_mode": {
    "name": "ipython",
    "version": 3
   },
   "file_extension": ".py",
   "mimetype": "text/x-python",
   "name": "python",
   "nbconvert_exporter": "python",
   "pygments_lexer": "ipython3",
   "version": "3.8.5"
  }
 },
 "nbformat": 4,
 "nbformat_minor": 5
}
