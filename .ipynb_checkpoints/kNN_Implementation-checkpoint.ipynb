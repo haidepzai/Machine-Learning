{
 "cells": [
  {
   "cell_type": "markdown",
   "metadata": {},
   "source": [
    "### K-Nearest Neighbor Algorithmus:\n",
    "\n",
    "#### Parameter:  \n",
    "\n",
    "dataset = (X, Y)  \n",
    "mit X := Features  \n",
    "und Y := Classes  \n",
    "\n",
    "K := Hyperparameter für die nächsten k Nachbarn  \n",
    "sample := Neuer Datenpunkt zum Klassifizieren \n",
    "\n",
    "#### Pseudo-Code:\n",
    "\n",
    "kNN (dataset, K, sample):  \n",
    "  - Bestimme von jedem Punkt $p \\in dataset$ die Distanz, mit der geg. Distanzfunktion.\n",
    "  - Bestimme die $K$ nächst gelegenen Nachbarn und bestimme die zugehörige Klasse von $sample$.  "
   ]
  },
  {
   "cell_type": "code",
   "execution_count": 3,
   "metadata": {},
   "outputs": [],
   "source": [
    "import numpy as np\n",
    "np.random.seed(42)"
   ]
  },
  {
   "cell_type": "markdown",
   "metadata": {},
   "source": [
    "### Datenset mit 3 Klassen\n",
    "Class 1 hat 10 Datensätze\n",
    "Class 2 = 6\n",
    "Class 3 = 13\n",
    "\n",
    "Die Daten sind multivariat normalverteilt.\n",
    "\n",
    "np.array([0, 0]) ist sozusagen der \"Zentrum\" wo die Daten liegen.\n",
    "\n",
    "Zurückgegeben werden die Daten und die Klassen (0, 1, 2)"
   ]
  },
  {
   "cell_type": "code",
   "execution_count": 4,
   "metadata": {},
   "outputs": [],
   "source": [
    "def generate_dataset():\n",
    "    num_samples_class1 = 10\n",
    "    num_samples_class2 = 6\n",
    "    num_samples_class3 = 13\n",
    "    cov = np.array([[1, 0], [0, 1]])\n",
    "    data1 = np.random.multivariate_normal(\n",
    "        np.array([0, 0]), cov, num_samples_class1\n",
    "    )\n",
    "    print(data1.shape)\n",
    "    print(data1)\n",
    "    data2 = np.random.multivariate_normal(\n",
    "        np.array([-10, 4]), cov, num_samples_class2\n",
    "    )\n",
    "    data3 = np.random.multivariate_normal(\n",
    "        np.array([10, 10]), cov, num_samples_class3\n",
    "    )\n",
    "    data = np.concatenate((data1, data2, data3), axis=0)\n",
    "    classes = np.array(\n",
    "        [0 for i in range(num_samples_class1)] +\n",
    "        [1 for i in range(num_samples_class2)] +\n",
    "        [2 for i in range(num_samples_class3)]\n",
    "    )\n",
    "    return data, classes"
   ]
  },
  {
   "cell_type": "code",
   "execution_count": 5,
   "metadata": {},
   "outputs": [
    {
     "name": "stdout",
     "output_type": "stream",
     "text": [
      "(10, 2)\n",
      "[[ 0.49671415 -0.1382643 ]\n",
      " [ 0.64768854  1.52302986]\n",
      " [-0.23415337 -0.23413696]\n",
      " [ 1.57921282  0.76743473]\n",
      " [-0.46947439  0.54256004]\n",
      " [-0.46341769 -0.46572975]\n",
      " [ 0.24196227 -1.91328024]\n",
      " [-1.72491783 -0.56228753]\n",
      " [-1.01283112  0.31424733]\n",
      " [-0.90802408 -1.4123037 ]]\n"
     ]
    }
   ],
   "source": [
    "x, y = generate_dataset()"
   ]
  },
  {
   "cell_type": "code",
   "execution_count": 6,
   "metadata": {},
   "outputs": [
    {
     "name": "stdout",
     "output_type": "stream",
     "text": [
      "x shape: (29, 2)\n",
      "y shape: (29,)\n",
      "x:\n",
      "[[  0.49671415  -0.1382643 ]\n",
      " [  0.64768854   1.52302986]\n",
      " [ -0.23415337  -0.23413696]\n",
      " [  1.57921282   0.76743473]\n",
      " [ -0.46947439   0.54256004]\n",
      " [ -0.46341769  -0.46572975]\n",
      " [  0.24196227  -1.91328024]\n",
      " [ -1.72491783  -0.56228753]\n",
      " [ -1.01283112   0.31424733]\n",
      " [ -0.90802408  -1.4123037 ]\n",
      " [ -8.53435123   3.7742237 ]\n",
      " [ -9.9324718    2.57525181]\n",
      " [-10.54438272   4.11092259]\n",
      " [-11.15099358   4.37569802]\n",
      " [-10.60063869   3.70830625]\n",
      " [-10.60170661   5.85227818]\n",
      " [  9.98650278   8.94228907]\n",
      " [ 10.82254491   8.77915635]\n",
      " [ 10.2088636    8.04032988]\n",
      " [  8.67181395  10.19686124]\n",
      " [ 10.73846658  10.17136828]\n",
      " [  9.88435172   9.6988963 ]\n",
      " [  8.52147801   9.28015579]\n",
      " [  9.53936123  11.05712223]\n",
      " [ 10.34361829   8.23695984]\n",
      " [ 10.32408397   9.61491772]\n",
      " [  9.323078    10.61167629]\n",
      " [ 11.03099952  10.93128012]\n",
      " [  9.16078248   9.69078762]]\n",
      "y:\n",
      "[0 0 0 0 0 0 0 0 0 0 1 1 1 1 1 1 2 2 2 2 2 2 2 2 2 2 2 2 2]\n"
     ]
    }
   ],
   "source": [
    "print(f\"x shape: {x.shape}\")\n",
    "print(f\"y shape: {y.shape}\")\n",
    "\n",
    "print(f\"x:\\n{x}\")\n",
    "print(f\"y:\\n{y}\")"
   ]
  },
  {
   "cell_type": "code",
   "execution_count": 13,
   "metadata": {},
   "outputs": [],
   "source": [
    "import matplotlib.pyplot as plt\n",
    "\n",
    "def plot_dataset(x, y):\n",
    "    colors = ['red', 'blue', 'green']\n",
    "    for index, point in enumerate(x):\n",
    "        plt.scatter(point[0], point[1], color=colors[y[index]])\n",
    "    plt.show()"
   ]
  },
  {
   "cell_type": "code",
   "execution_count": 14,
   "metadata": {},
   "outputs": [
    {
     "data": {
      "image/png": "[encoded data removed]",
      "text/plain": [
       "<Figure size 432x288 with 1 Axes>"
      ]
     },
     "metadata": {
      "needs_background": "light"
     },
     "output_type": "display_data"
    }
   ],
   "source": [
    "plot_dataset(x, y)"
   ]
  },
  {
   "cell_type": "markdown",
   "metadata": {},
   "source": [
    "### KNN Implementation"
   ]
  },
  {
   "cell_type": "code",
   "execution_count": 84,
   "metadata": {},
   "outputs": [],
   "source": [
    "class KNeighborsClassifier:\n",
    "    # K = 5 (default)\n",
    "    # Konstruktor\n",
    "    def __init__(self, n_neighbors: int = 5):\n",
    "        self.n_neighbors = n_neighbors\n",
    "        self.X = None\n",
    "        self.y = None\n",
    "        self.num_classes = None\n",
    "    \n",
    "    # wird in der Funktion kneighbors verwendet\n",
    "    def _distance(self, p1: np.ndarray, p2: np.ndarray):\n",
    "        # print(p1, p2)\n",
    "        # print(np.linalg.norm(p1 - p2))\n",
    "        return np.linalg.norm(p1 - p2)\n",
    "    # norm = berechnet den Betrag (Länge des Vektors)\n",
    "    \n",
    "    # k-neighbor von einem Datenpunkt finden (als Indizes)\n",
    "    # Ruft die Methode _distance auf\n",
    "    # Punkt x_i ist ein Punkt aus dem Dataset X (29 Daten)\n",
    "    # Methode fit muss davor aufgerufen werden, weil dort X gespeichert wird\n",
    "    def kneighbors(self, X_samples: np.ndarray):\n",
    "        neighbors_idxs = np.array(\n",
    "            [np.argsort([self._distance(sample, x_i) for x_i in self.X])[:self.n_neighbors] for sample in X_samples]\n",
    "        )\n",
    "        return neighbors_idxs\n",
    "    # argsort sortiert die Indizes\n",
    "    # [:self.n_neighbors] = slice die 1. n_neighbors (3)\n",
    "    # return: Ein np.array mit den Indizes (sortiert)\n",
    "    \n",
    "    # Um zu trainieren\n",
    "    def fit(self, X: np.ndarray, y: np.ndarray):\n",
    "        self.X = X\n",
    "        self.y = y\n",
    "        self.num_classes = len(np.unique(self.y)) # In dem Fall 3\n",
    "    \n",
    "    # Was ist die am häufigsten vorkommende Klasse\n",
    "    def _vote_class(self, neighbors_idxs: np.ndarray):\n",
    "        votes = np.array([0 for class_idx in range(self.num_classes)]) \n",
    "        # Zuerst alles 0; votes = [0, 0, 0]\n",
    "        for neighbor_idx in neighbors_idxs:\n",
    "            neighbor_class = self.y[neighbor_idx] # Klasse\n",
    "            votes[neighbor_class] += 1 # Bei Vorkommen, +1 hochzählen\n",
    "        voted_class = np.argmax(votes) # die am häufigsten vorkommende Klasse\n",
    "        return voted_class\n",
    "    # Speichert ab wie oft jede Klasse beim Nachbarn vorkommt\n",
    "    \n",
    "    def predict(self, X_samples: np.ndarray):\n",
    "        neighbors_idxs = self.kneighbors(X_samples)\n",
    "        # Verwendet _vote_class\n",
    "        y_pred = np.array([self._vote_class(neighbors_idx) for neighbors_idx in neighbors_idxs])\n",
    "        return y_pred\n",
    "        # Der Liste werden die Idxs übergeben (1, 4, 3) als np.array übergeben sprich dieses array [1 4 3]\n",
    "    \n",
    "    def score(self, X_samples: np.ndarray, y_samples: np.ndarray):\n",
    "        y_pred = self.predict(X_samples)\n",
    "        accuracy = np.sum([y_pred_i == y_i for y_pred_i, y_i in zip(y_pred, y_samples)]) / len(y_samples)\n",
    "        return accuracy\n",
    "    "
   ]
  },
  {
   "cell_type": "markdown",
   "metadata": {},
   "source": [
    "# _vote_class\n",
    "\n",
    "votes = [0, 0, 0]\n",
    "y = [1, 0, 0]\n",
    "=> [2, 1, 0]\n",
    "\n",
    "2x die Klasse 0\n",
    "1x die Klasse 1\n",
    "0x die Klasse 2\n",
    "\n",
    "# score\n",
    "\n",
    "pred = [0, 1]\n",
    "true = [0, 2]\n",
    "\n",
    "acc = TruePred / # samples = 1/2 = 0.5"
   ]
  },
  {
   "cell_type": "code",
   "execution_count": 85,
   "metadata": {},
   "outputs": [
    {
     "name": "stdout",
     "output_type": "stream",
     "text": [
      "NeighborsIdxs:\n",
      "[[1 4 3]]\n",
      "NeighborsPoints:\n",
      "[[[ 0.64768854  1.52302986]\n",
      "  [-0.46947439  0.54256004]\n",
      "  [ 1.57921282  0.76743473]]]\n",
      "NeighborsClasses:\n",
      "[[0 0 0]]\n",
      "TestSamples:\n",
      "[[0. 4.]]\n",
      "Predictions:\n",
      "[0]\n",
      "Score:\n",
      "1.0\n"
     ]
    }
   ],
   "source": [
    "# 1 Sample\n",
    "x_test = np.array([[0.0, 4.0]])\n",
    "y_test = np.array([0])\n",
    "\n",
    "clf = KNeighborsClassifier(n_neighbors=3)\n",
    "clf.fit(x, y)\n",
    "\n",
    "neighbors_idxs = clf.kneighbors(x_test)\n",
    "print(f\"NeighborsIdxs:\\n{neighbors_idxs}\") # Indizes\n",
    "print(f\"NeighborsPoints:\\n{x[neighbors_idxs]}\") # Koordinaten\n",
    "print(f\"NeighborsClasses:\\n{y[neighbors_idxs]}\") # Klassen\n",
    "\n",
    "print(f\"TestSamples:\\n{x_test}\")\n",
    "print(f\"Predictions:\\n{clf.predict(x_test)}\") # Vorhersage\n",
    "print(f\"Score:\\n{clf.score(x_test, y_test)}\")"
   ]
  },
  {
   "cell_type": "code",
   "execution_count": 80,
   "metadata": {},
   "outputs": [],
   "source": [
    "# samples = x_test\n",
    "def plot_knn_prediction(clf, samples):\n",
    "    colors = ['red', 'blue', 'green']\n",
    "    for index, point in enumerate(clf.X):\n",
    "        plt.scatter(point[0], point[1], color=colors[clf.y[index]])\n",
    "    neighbors_idxs = clf.kneighbors(samples) # Indizes der nächsten 3 Nachbarn\n",
    "    neighbors_points = clf.X[neighbors_idxs] # Koordinaten (x[neighbors_idxs] wäre auch möglich)\n",
    "    # Samples printen\n",
    "    for idx, sample in enumerate(samples):\n",
    "        plt.scatter(sample[0], sample[1], color=\"orange\")\n",
    "        # Linien\n",
    "        for neighbor_point in neighbors_points[idx]:\n",
    "            plt.plot((neighbor_point[0], sample[0]), (neighbor_point[1], sample[1]), color=\"cyan\")\n",
    "    plt.show()"
   ]
  },
  {
   "cell_type": "code",
   "execution_count": 81,
   "metadata": {},
   "outputs": [
    {
     "data": {
      "image/png": "[encoded data removed]",
      "text/plain": [
       "<Figure size 432x288 with 1 Axes>"
      ]
     },
     "metadata": {
      "needs_background": "light"
     },
     "output_type": "display_data"
    }
   ],
   "source": [
    "plot_knn_prediction(clf, x_test)"
   ]
  },
  {
   "cell_type": "code",
   "execution_count": null,
   "metadata": {},
   "outputs": [],
   "source": []
  }
 ],
 "metadata": {
  "kernelspec": {
   "display_name": "Python 3",
   "language": "python",
   "name": "python3"
  },
  "language_info": {
   "codemirror_mode": {
    "name": "ipython",
    "version": 3
   },
   "file_extension": ".py",
   "mimetype": "text/x-python",
   "name": "python",
   "nbconvert_exporter": "python",
   "pygments_lexer": "ipython3",
   "version": "3.7.9"
  }
 },
 "nbformat": 4,
 "nbformat_minor": 2
}
