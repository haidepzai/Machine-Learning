{
 "cells": [
  {
   "cell_type": "code",
   "execution_count": 21,
   "id": "digital-lyric",
   "metadata": {},
   "outputs": [],
   "source": [
    "import numpy as np\n",
    "np.random.seed(42)"
   ]
  },
  {
   "cell_type": "code",
   "execution_count": 22,
   "id": "designing-google",
   "metadata": {},
   "outputs": [],
   "source": [
    "import pandas as pd\n",
    "from sklearn.datasets import load_boston\n",
    "from sklearn.model_selection import train_test_split"
   ]
  },
  {
   "cell_type": "markdown",
   "id": "canadian-zambia",
   "metadata": {},
   "source": [
    "### Split Dataset"
   ]
  },
  {
   "cell_type": "code",
   "execution_count": 23,
   "id": "healthy-spanking",
   "metadata": {},
   "outputs": [],
   "source": [
    "dataset = load_boston()\n",
    "\n",
    "x = dataset.data\n",
    "y = dataset.target\n",
    "\n",
    "x_train, x_test, y_train, y_test = train_test_split(x, y, test_size=0.3)"
   ]
  },
  {
   "cell_type": "code",
   "execution_count": 24,
   "id": "champion-munich",
   "metadata": {},
   "outputs": [
    {
     "name": "stdout",
     "output_type": "stream",
     "text": [
      "R2-Score: 0.7112260057484908\n"
     ]
    }
   ],
   "source": [
    "from sklearn.linear_model import LinearRegression\n",
    "\n",
    "regr = LinearRegression()\n",
    "regr.fit(x_train, y_train)\n",
    "r2_score = regr.score(x_test, y_test)\n",
    "\n",
    "print(f\"R2-Score: {r2_score}\")"
   ]
  },
  {
   "cell_type": "markdown",
   "id": "powered-duplicate",
   "metadata": {},
   "source": [
    "### Mean Squared Error (MSE)"
   ]
  },
  {
   "cell_type": "markdown",
   "id": "endangered-discovery",
   "metadata": {},
   "source": [
    "y_true1 = 10  \n",
    "y_pred1 = 12  \n",
    "error1 = (10 - 12)**2 = 4 \n",
    "\n",
    "y_true2 = 8  \n",
    "y_pred2 = 6  \n",
    "error2 = (8 - 6)**2 = 4  \n",
    "\n",
    "(4 + 4) / 2 = 4  "
   ]
  },
  {
   "cell_type": "markdown",
   "id": "labeled-criterion",
   "metadata": {},
   "source": [
    "MSE = $\\frac{1}{n} \\sum_{i=1}^{n}(y_i - \\hat{y}_i)^2$  \n",
    "MSE $\\in [0, \\inf)$"
   ]
  },
  {
   "cell_type": "code",
   "execution_count": 29,
   "id": "geographic-smile",
   "metadata": {},
   "outputs": [],
   "source": [
    "def own_mean_squared_error(y_true, y_pred):\n",
    "    n = len(y_true)\n",
    "    se = np.array([(y_true[i] - y_pred[i])**2 for i in range(n)])\n",
    "    mse = np.mean(se)\n",
    "    return mse"
   ]
  },
  {
   "cell_type": "code",
   "execution_count": 30,
   "id": "honest-electric",
   "metadata": {},
   "outputs": [
    {
     "name": "stderr",
     "output_type": "stream",
     "text": [
      "<ipython-input-29-9ecf71eb3e75>:3: DeprecationWarning: Calling np.sum(generator) is deprecated, and in the future will give a different result. Use np.sum(np.fromiter(generator)) or the python sum builtin instead.\n",
      "  se = np.sum((y_true[i] - y_pred[i])**2 for i in range(n))\n"
     ]
    },
    {
     "data": {
      "text/plain": [
       "3270.6515231389612"
      ]
     },
     "execution_count": 30,
     "metadata": {},
     "output_type": "execute_result"
    }
   ],
   "source": [
    "y_pred_test = regr.predict(x_test)\n",
    "\n",
    "own_mean_squared_error(y_test, y_pred_test) # True Werte und Prediction"
   ]
  },
  {
   "cell_type": "code",
   "execution_count": null,
   "id": "urban-softball",
   "metadata": {},
   "outputs": [],
   "source": [
    "from sklearn.metrics import mean_squared_error"
   ]
  },
  {
   "cell_type": "code",
   "execution_count": null,
   "id": "missing-central",
   "metadata": {},
   "outputs": [],
   "source": [
    "y_pred_test = regr.predict(x_test)\n",
    "\n",
    "mean_squared_error(y_test, y_pred_test) # True Werte und Prediction"
   ]
  },
  {
   "cell_type": "markdown",
   "id": "pleased-compensation",
   "metadata": {},
   "source": [
    "### Mean Absolute Error (MAE)"
   ]
  },
  {
   "cell_type": "markdown",
   "id": "ethical-depression",
   "metadata": {},
   "source": [
    "MAE = $\\frac{1}{n} \\sum_{i=1}^{n}|y_i - \\hat{y}_i|$  \n",
    "MAE $\\in [0, \\inf)$"
   ]
  },
  {
   "cell_type": "markdown",
   "id": "given-local",
   "metadata": {},
   "source": [
    "y_true1 = 10  \n",
    "y_pred1 = 12  \n",
    "error1 = |10 - 1|2 = 2  \n",
    "\n",
    "y_true2 = 8  \n",
    "y_pred2 = 6  \n",
    "error2 = |8 - 6| = 2  \n",
    "\n",
    "(2 + 2) / 2 = 2  "
   ]
  },
  {
   "cell_type": "code",
   "execution_count": null,
   "id": "political-cardiff",
   "metadata": {},
   "outputs": [],
   "source": [
    "def own_mean_absolute_error(y_true, y_pred):\n",
    "    n = len(y_true)\n",
    "    ae = np.array([np.abs(y_true[i] - y_pred[i]) for i in range(n)])\n",
    "    mae = np.mean(ae)\n",
    "    return mae"
   ]
  },
  {
   "cell_type": "code",
   "execution_count": null,
   "id": "banned-detector",
   "metadata": {},
   "outputs": [],
   "source": [
    "y_pred_test = regr.predict(x_test)\n",
    "\n",
    "own_mean_absolute_error(y_test, y_pred_test) # True Werte und Prediction"
   ]
  },
  {
   "cell_type": "code",
   "execution_count": null,
   "id": "broke-sunrise",
   "metadata": {},
   "outputs": [],
   "source": [
    "from sklearn.metrics import mean_absolute_error"
   ]
  },
  {
   "cell_type": "code",
   "execution_count": null,
   "id": "lined-wyoming",
   "metadata": {},
   "outputs": [],
   "source": [
    "y_pred_test = regr.predict(x_test)\n",
    "\n",
    "mean_absolute_error(y_test, y_pred_test) # True Werte und Prediction"
   ]
  },
  {
   "cell_type": "markdown",
   "id": "substantial-donor",
   "metadata": {},
   "source": [
    "### y-Data"
   ]
  },
  {
   "cell_type": "code",
   "execution_count": null,
   "id": "tested-morris",
   "metadata": {},
   "outputs": [],
   "source": [
    "print(np.mean(y))\n",
    "print(np.var(y))\n",
    "print(np.std(y))\n",
    "print(np.min(y))\n",
    "print(np.max(y))\n",
    "print(y.shape)\n",
    "print(x.shape)"
   ]
  },
  {
   "cell_type": "code",
   "execution_count": null,
   "id": "aggressive-timer",
   "metadata": {},
   "outputs": [],
   "source": []
  }
 ],
 "metadata": {
  "kernelspec": {
   "display_name": "Python 3",
   "language": "python",
   "name": "python3"
  },
  "language_info": {
   "codemirror_mode": {
    "name": "ipython",
    "version": 3
   },
   "file_extension": ".py",
   "mimetype": "text/x-python",
   "name": "python",
   "nbconvert_exporter": "python",
   "pygments_lexer": "ipython3",
   "version": "3.8.5"
  }
 },
 "nbformat": 4,
 "nbformat_minor": 5
}
