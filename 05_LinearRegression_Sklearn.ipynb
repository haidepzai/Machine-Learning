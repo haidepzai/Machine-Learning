{
 "cells": [
  {
   "cell_type": "code",
   "execution_count": 22,
   "id": "alike-hardwood",
   "metadata": {},
   "outputs": [],
   "source": [
    "import numpy as np\n",
    "import pandas as pd\n",
    "from sklearn.datasets import load_boston\n",
    "from sklearn.model_selection import train_test_split\n",
    "from sklearn.linear_model import LinearRegression\n",
    "import matplotlib.pyplot as plt"
   ]
  },
  {
   "cell_type": "code",
   "execution_count": 23,
   "id": "egyptian-baker",
   "metadata": {},
   "outputs": [],
   "source": [
    "dataset = load_boston()\n",
    "df = pd.DataFrame(dataset.data, columns=dataset.feature_names)"
   ]
  },
  {
   "cell_type": "code",
   "execution_count": 24,
   "id": "cloudy-phoenix",
   "metadata": {},
   "outputs": [
    {
     "name": "stdout",
     "output_type": "stream",
     "text": [
      "(506, 13)\n",
      "(506, 1)\n",
      "(354, 1)\n",
      "(152, 1)\n"
     ]
    }
   ],
   "source": [
    "np.random.seed(42)\n",
    "\n",
    "print(dataset.data.shape) # 506 Zeilen mit 13 Spalten (Features)\n",
    "x = dataset.data[:, 5:6] # 5. Spalte (Feature)\n",
    "print(x.shape)\n",
    "y = dataset.target\n",
    "\n",
    "# Split:\n",
    "x_train, x_test, y_train, y_test = train_test_split(x, y, test_size=0.3) # Test 30%; Train 70%\n",
    "print(x_train.shape)\n",
    "print(x_test.shape)"
   ]
  },
  {
   "cell_type": "code",
   "execution_count": 25,
   "id": "threatened-missouri",
   "metadata": {},
   "outputs": [
    {
     "name": "stdout",
     "output_type": "stream",
     "text": [
      "Coef: [9.1181022]\n",
      "Intercept: -34.662307438406785\n",
      "R2-Score: 0.4584649934303068\n"
     ]
    }
   ],
   "source": [
    "regr = LinearRegression()\n",
    "regr.fit(x_train, y_train)\n",
    "r2_score = regr.score(x_test, y_test)\n",
    "\n",
    "print(f\"Coef: {regr.coef_}\")\n",
    "print(f\"Intercept: {regr.intercept_}\")\n",
    "print(f\"R2-Score: {r2_score}\")"
   ]
  },
  {
   "cell_type": "markdown",
   "id": "reduced-romania",
   "metadata": {},
   "source": [
    "### Visualization"
   ]
  },
  {
   "cell_type": "code",
   "execution_count": 26,
   "id": "addressed-success",
   "metadata": {},
   "outputs": [],
   "source": [
    "def plot_regressor(regr, x_test, y_test):\n",
    "    x1 = np.min(x) - 1\n",
    "    x2 = np.max(x) + 1    \n",
    "    x_points = np.array([x1, x2])\n",
    "    x_points = np.reshape(x_points, (-1, 1))\n",
    "    y_pred = regr.predict(x_points)\n",
    "    y1, y2 = y_pred\n",
    "    plt.plot((x1, x2), (y1, y2), color=\"black\")\n",
    "    # print(np.column_stack((x_test, y_test)))\n",
    "    plt.scatter(x_test, y_test, color=\"red\")\n",
    "    plt.show()"
   ]
  },
  {
   "cell_type": "markdown",
   "id": "interested-chester",
   "metadata": {},
   "source": [
    "### Testdaten"
   ]
  },
  {
   "cell_type": "code",
   "execution_count": 27,
   "id": "acceptable-consent",
   "metadata": {},
   "outputs": [
    {
     "data": {
      "image/png": "[encoded data removed]",
      "text/plain": [
       "<Figure size 432x288 with 1 Axes>"
      ]
     },
     "metadata": {
      "needs_background": "light"
     },
     "output_type": "display_data"
    }
   ],
   "source": [
    "plot_regressor(regr, x_test, y_test)"
   ]
  },
  {
   "cell_type": "code",
   "execution_count": 28,
   "id": "hybrid-andrew",
   "metadata": {},
   "outputs": [],
   "source": [
    "def plot_residuals(regr, x_train, y_train, x_test, y_test):\n",
    "    y_pred_train = regr.predict(x_train)\n",
    "    y_pred_test = regr.predict(x_test)\n",
    "    \n",
    "    min_val = min(np.min(y_pred_train), np.min(y_pred_test)) # Was ist der minimale Wert von train und test\n",
    "    max_val = max(np.max(y_pred_train), np.max(y_pred_test))\n",
    "    \n",
    "    print(np.min(y_pred_train))\n",
    "    print(np.min(y_pred_test))\n",
    "    print(min_val)\n",
    "    \n",
    "    plt.scatter(y_pred_train, y_pred_train - y_train, color=\"blue\")\n",
    "    plt.scatter(y_pred_test, y_pred_test - y_test, color=\"red\")\n",
    "    plt.hlines(y=0, xmin=min_val, xmax=max_val)\n",
    "    plt.legend([\"Train\", \"Test\"])\n",
    "    plt.show()"
   ]
  },
  {
   "cell_type": "code",
   "execution_count": 29,
   "id": "professional-investigator",
   "metadata": {},
   "outputs": [
    {
     "name": "stdout",
     "output_type": "stream",
     "text": [
      "0.5609213497777432\n",
      "-2.1927455138080063\n",
      "-2.1927455138080063\n"
     ]
    },
    {
     "data": {
      "image/png": "[encoded data removed]",
      "text/plain": [
       "<Figure size 432x288 with 1 Axes>"
      ]
     },
     "metadata": {
      "needs_background": "light"
     },
     "output_type": "display_data"
    }
   ],
   "source": [
    "plot_residuals(regr, x_train, y_train, x_test, y_test)"
   ]
  },
  {
   "cell_type": "code",
   "execution_count": null,
   "id": "developmental-inflation",
   "metadata": {},
   "outputs": [],
   "source": []
  }
 ],
 "metadata": {
  "kernelspec": {
   "display_name": "Python 3",
   "language": "python",
   "name": "python3"
  },
  "language_info": {
   "codemirror_mode": {
    "name": "ipython",
    "version": 3
   },
   "file_extension": ".py",
   "mimetype": "text/x-python",
   "name": "python",
   "nbconvert_exporter": "python",
   "pygments_lexer": "ipython3",
   "version": "3.8.5"
  }
 },
 "nbformat": 4,
 "nbformat_minor": 5
}
