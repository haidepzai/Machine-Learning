{
 "cells": [
  {
   "cell_type": "markdown",
   "metadata": {},
   "source": [
    "#### Hallo Leute!\n",
    "\n",
    "Wir sind jetzt bei der ersten Programmier-Übung angelangt.Es wir das Wissen aus den letzten Videos zu Numpy und Matplotlib abgefragt.\n",
    "\n",
    "##### Aufgabe 1:\n",
    "\n",
    "Lege einen zufälligen, ganzzahligen Datensatz als Numpy Array mit der Funktion: np.random.randint() an.\n",
    "\n",
    "##### Aufgabe 2:\n",
    "\n",
    "Stelle diese Daten in Matplotlib als Scatterplot dar, bei dem die y-Koordinaten die Werte des Arrays sind und die x-Koordinaten die Indizes der Listen-Werte sind.\n",
    "\n",
    "##### Aufgabe 3:\n",
    "\n",
    "Beschrifte die x- und y-Achse der Matplotlib Grafik nach Wahl (mit einem String/Text).\n",
    "\n",
    "##### Aufgabe 4: \n",
    "\n",
    "Berechne mit einer eigenen Funktion, oder mit einer Numpy Funktion, den Mittelwerte der Daten und zeichne diesen als rote Linie in der Grafik ein. \n",
    "\n",
    "##### Aufgabe 5:\n",
    "\n",
    "Berechne mit einer eigenen Funktion, oder mit einer Numpy Funktion, den Median der Daten und zeichne diesen als gelbe Linie in der Grafik ein. \n",
    "\n",
    "#### Viel Erfolg!"
   ]
  },
  {
   "cell_type": "code",
   "execution_count": 18,
   "metadata": {},
   "outputs": [],
   "source": [
    "import random\n",
    "import numpy as np\n",
    "import matplotlib.pyplot as plt"
   ]
  },
  {
   "cell_type": "code",
   "execution_count": 29,
   "metadata": {},
   "outputs": [
    {
     "name": "stdout",
     "output_type": "stream",
     "text": [
      "[39 23 37 64 54 27 20 54 39 98 23 92 18 68 66 86  3 57 90 34  8 78 88 81\n",
      " 13 40 34 39 88 46]\n"
     ]
    }
   ],
   "source": [
    "data = np.random.randint(100, size=30)\n",
    "print(data)"
   ]
  },
  {
   "cell_type": "code",
   "execution_count": 30,
   "metadata": {},
   "outputs": [
    {
     "data": {
      "image/png": "[encoded data removed]",
      "text/plain": [
       "<Figure size 432x288 with 1 Axes>"
      ]
     },
     "metadata": {
      "needs_background": "light"
     },
     "output_type": "display_data"
    }
   ],
   "source": [
    "x_axis = np.arange(30)\n",
    "plt.scatter(x_axis, data, c=\"r\")\n",
    "\n",
    "plt.xlabel(\"x\")\n",
    "plt.ylabel(\"y\")\n",
    "\n",
    "mean = np.mean(data)\n",
    "median = np.median(data)\n",
    "\n",
    "plt.plot((0, 30), (mean, mean))\n",
    "plt.plot((0, 30), (median, median))\n",
    "\n",
    "plt.show()"
   ]
  },
  {
   "cell_type": "code",
   "execution_count": null,
   "metadata": {},
   "outputs": [],
   "source": []
  }
 ],
 "metadata": {
  "kernelspec": {
   "display_name": "Python 3",
   "language": "python",
   "name": "python3"
  },
  "language_info": {
   "codemirror_mode": {
    "name": "ipython",
    "version": 3
   },
   "file_extension": ".py",
   "mimetype": "text/x-python",
   "name": "python",
   "nbconvert_exporter": "python",
   "pygments_lexer": "ipython3",
   "version": "3.7.9"
  }
 },
 "nbformat": 4,
 "nbformat_minor": 2
}
